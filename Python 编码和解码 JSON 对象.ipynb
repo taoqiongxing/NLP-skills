{
 "cells": [
  {
   "cell_type": "code",
   "execution_count": 83,
   "metadata": {},
   "outputs": [
    {
     "name": "stdout",
     "output_type": "stream",
     "text": [
      "[{\"a\": 1, \"b\": 2, \"c\": 3, \"d\": 4, \"e\": 5}]\n"
     ]
    }
   ],
   "source": [
    "import json\n",
    "data = [ { 'a' : 1, 'b' : 2, 'c' : 3, 'd' : 4, 'e' : 5 } ]\n",
    "json = json.dumps(data)\n",
    "print(json)"
   ]
  },
  {
   "cell_type": "code",
   "execution_count": 87,
   "metadata": {},
   "outputs": [],
   "source": [
    "import json\n",
    "a=[ {'a': 'Runoob', 'b': 7} ]\n",
    "aa=json.dumps(a)"
   ]
  },
  {
   "cell_type": "code",
   "execution_count": 88,
   "metadata": {},
   "outputs": [
    {
     "name": "stdout",
     "output_type": "stream",
     "text": [
      "{\n",
      "    \"a\": \"Runoob\",\n",
      "    \"b\": 7\n",
      "}\n"
     ]
    }
   ],
   "source": [
    "import json\n",
    "print(json.dumps({'a': 'Runoob', 'b': 7}, sort_keys=True, indent=4, separators=(',', ': ')))"
   ]
  },
  {
   "cell_type": "code",
   "execution_count": 90,
   "metadata": {},
   "outputs": [
    {
     "name": "stdout",
     "output_type": "stream",
     "text": [
      "{\"a\":1,\"b\":2,\"c\":3,\"d\":4,\"e\":5}\n",
      "{'a': 1, 'b': 2, 'c': 3, 'd': 4, 'e': 5}\n"
     ]
    }
   ],
   "source": [
    "import json\n",
    "jsonData = '{\"a\":1,\"b\":2,\"c\":3,\"d\":4,\"e\":5}';\n",
    "print(jsonData)\n",
    "text = json.loads(jsonData)\n",
    "print (text)"
   ]
  },
  {
   "cell_type": "code",
   "execution_count": 91,
   "metadata": {},
   "outputs": [
    {
     "name": "stderr",
     "output_type": "stream",
     "text": [
      "Using TensorFlow backend.\n"
     ]
    }
   ],
   "source": [
    "from keras.utils import np_utils"
   ]
  },
  {
   "cell_type": "code",
   "execution_count": 92,
   "metadata": {},
   "outputs": [],
   "source": [
    "to_one_hot = np_utils.to_categorical"
   ]
  },
  {
   "cell_type": "code",
   "execution_count": 93,
   "metadata": {},
   "outputs": [
    {
     "data": {
      "text/plain": [
       "<function keras.utils.np_utils.to_categorical(y, num_classes=None)>"
      ]
     },
     "execution_count": 93,
     "metadata": {},
     "output_type": "execute_result"
    }
   ],
   "source": [
    "to_one_hot"
   ]
  },
  {
   "cell_type": "code",
   "execution_count": 94,
   "metadata": {},
   "outputs": [
    {
     "name": "stdout",
     "output_type": "stream",
     "text": [
      "<function to_categorical at 0x00000163149B2BF8>\n"
     ]
    }
   ],
   "source": [
    "print(to_one_hot)"
   ]
  },
  {
   "cell_type": "code",
   "execution_count": 1,
   "metadata": {},
   "outputs": [],
   "source": [
    "some_list = [1, 2, 3]"
   ]
  },
  {
   "cell_type": "code",
   "execution_count": 2,
   "metadata": {},
   "outputs": [
    {
     "data": {
      "text/plain": [
       "3"
      ]
     },
     "execution_count": 2,
     "metadata": {},
     "output_type": "execute_result"
    }
   ],
   "source": [
    "some_list[-1]"
   ]
  },
  {
   "cell_type": "code",
   "execution_count": 3,
   "metadata": {},
   "outputs": [
    {
     "data": {
      "text/plain": [
       "[1, 2]"
      ]
     },
     "execution_count": 3,
     "metadata": {},
     "output_type": "execute_result"
    }
   ],
   "source": [
    "some_list[:-1]"
   ]
  },
  {
   "cell_type": "code",
   "execution_count": 5,
   "metadata": {},
   "outputs": [
    {
     "name": "stdout",
     "output_type": "stream",
     "text": [
      "<class 'dict'>\n",
      "<class 'dict'>\n",
      "<class 'dict'>\n",
      "原始数据是： [{'123': [1, 2, 3, 4, 5, 6, 7, 8, 9], '456': [3, 4, 6, 3, 6, 7, 3, 7, 3, 3]}, {'123': '111', '456': 222}, {'123': '111', '456': 222}]\n",
      "结果数据是： [{'123': [1, 2, 3, 4, 5, 6, 7, 8, 9], '456': [3, 4, 6, 3, 6, 7, 3, 7, 3, 3]}, {'123': '111', '456': 222}, {'123': '111', '456': 222}]\n"
     ]
    }
   ],
   "source": [
    "# -*- coding: UTF-8 -*-\n",
    "'''Risk2S'''\n",
    "import json\n",
    "# 列表写入文件\n",
    "# 测试list\n",
    "risk_list =  [{'123':[1,2,3,4,5,6,7,8,9],'456':[3,4,6,3,6,7,3,7,3,3]},{'123':'111','456':222},{'123':'111','456':222}]\n",
    "# 将数据写入文件\n",
    "file = open('jsondemo.json', 'w')\n",
    "for i in risk_list:\n",
    "    json_i = json.dumps(i)\n",
    "    file.write(json_i+'\\n')\n",
    "file.close()\n",
    "\n",
    "# 从文件中读取数据\n",
    "risk_result = []\n",
    "with open('jsondemo.json','r') as f:\n",
    "    # 读取数据并分割。 最后一个为空，所以去除\n",
    "    risk_new_list = f.read().split('\\n')[:-1]\n",
    "    for x in risk_new_list:\n",
    "        json_x = json.loads(x)\n",
    "        print(type(json_x))\n",
    "        risk_result.append(json_x)\n",
    "f.close()\n",
    "print(\"原始数据是：\", risk_list)\n",
    "print(\"结果数据是：\", risk_result)"
   ]
  },
  {
   "cell_type": "code",
   "execution_count": 10,
   "metadata": {},
   "outputs": [
    {
     "data": {
      "text/plain": [
       "'111'"
      ]
     },
     "execution_count": 10,
     "metadata": {},
     "output_type": "execute_result"
    }
   ],
   "source": [
    " risk_result[1]['123']"
   ]
  },
  {
   "cell_type": "code",
   "execution_count": 22,
   "metadata": {},
   "outputs": [],
   "source": [
    "x=[{\"vertexSet\": [], \n",
    "    \"edgeSet\": [{\"kbID\": \"P0\", \"right\": [13], \"left\": [3]}], \n",
    "    \"tokens\": [\"Tulostoma\", \"is\", \"a\", \"genus\", \"of\", \"over\", \"100\", \"species\", \"of\", \"fungi\", \"in\", \"the\", \"family\", \"Agaricaceae\", \".\"]}]"
   ]
  },
  {
   "cell_type": "code",
   "execution_count": 23,
   "metadata": {
    "scrolled": true
   },
   "outputs": [
    {
     "ename": "IndexError",
     "evalue": "list index out of range",
     "output_type": "error",
     "traceback": [
      "\u001b[1;31m---------------------------------------------------------------------------\u001b[0m",
      "\u001b[1;31mIndexError\u001b[0m                                Traceback (most recent call last)",
      "\u001b[1;32m<ipython-input-23-c90b658dce10>\u001b[0m in \u001b[0;36m<module>\u001b[1;34m()\u001b[0m\n\u001b[1;32m----> 1\u001b[1;33m \u001b[0mx\u001b[0m\u001b[1;33m[\u001b[0m\u001b[1;36m1\u001b[0m\u001b[1;33m]\u001b[0m\u001b[1;33m[\u001b[0m\u001b[1;34m\"vertexSet\"\u001b[0m\u001b[1;33m]\u001b[0m\u001b[1;33m\u001b[0m\u001b[0m\n\u001b[0m",
      "\u001b[1;31mIndexError\u001b[0m: list index out of range"
     ]
    }
   ],
   "source": [
    "x[1][\"vertexSet\"]"
   ]
  },
  {
   "cell_type": "code",
   "execution_count": 32,
   "metadata": {},
   "outputs": [
    {
     "name": "stdout",
     "output_type": "stream",
     "text": [
      "<class 'dict'>\n",
      "原始数据是： [{'vertexSet': [], 'edgeSet': [{'kbID': 'P0', 'right': [13], 'left': [3]}], 'tokens': ['Tulostoma', 'is', 'a', 'genus', 'of', 'over', '100', 'species', 'of', 'fungi', 'in', 'the', 'family', 'Agaricaceae', '.']}]\n",
      "结果数据是： [{'vertexSet': [], 'edgeSet': [{'kbID': 'P0', 'right': [13], 'left': [3]}], 'tokens': ['Tulostoma', 'is', 'a', 'genus', 'of', 'over', '100', 'species', 'of', 'fungi', 'in', 'the', 'family', 'Agaricaceae', '.']}]\n"
     ]
    }
   ],
   "source": [
    "# -*- coding: UTF-8 -*-\n",
    "'''Risk2S'''\n",
    "import json\n",
    "# 列表写入文件\n",
    "# 测试list\n",
    "risk_list = [{\"vertexSet\": [], \n",
    "    \"edgeSet\": [{\"kbID\": \"P0\", \"right\": [13], \"left\": [3]}], \n",
    "    \"tokens\": [\"Tulostoma\", \"is\", \"a\", \"genus\", \"of\", \"over\", \"100\", \"species\", \"of\", \"fungi\", \"in\", \"the\", \"family\", \"Agaricaceae\", \".\"]}]\n",
    "# 将数据写入文件\n",
    "file = open('jsondemo.json', 'w')\n",
    "for i in risk_list:\n",
    "    json_i = json.dumps(i)\n",
    "    file.write(json_i+'\\n')\n",
    "file.close()\n",
    "\n",
    "# 从文件中读取数据\n",
    "risk_result = []\n",
    "with open('jsondemo.json','r') as f:\n",
    "    # 读取数据并分割。 最后一个为空，所以去除\n",
    "    risk_new_list = f.read().split('\\n')[:-1]\n",
    "    for x in risk_new_list:\n",
    "        json_x = json.loads(x)\n",
    "        print(type(json_x))\n",
    "        risk_result.append(json_x)\n",
    "f.close() \n",
    "print(\"原始数据是：\", risk_list)\n",
    "print(\"结果数据是：\", risk_result)"
   ]
  },
  {
   "cell_type": "code",
   "execution_count": 56,
   "metadata": {
    "scrolled": true
   },
   "outputs": [
    {
     "ename": "KeyError",
     "evalue": "1",
     "output_type": "error",
     "traceback": [
      "\u001b[1;31m---------------------------------------------------------------------------\u001b[0m",
      "\u001b[1;31mKeyError\u001b[0m                                  Traceback (most recent call last)",
      "\u001b[1;32m<ipython-input-56-f0a598e6f0a9>\u001b[0m in \u001b[0;36m<module>\u001b[1;34m()\u001b[0m\n\u001b[1;32m----> 1\u001b[1;33m \u001b[0mrisk_list\u001b[0m\u001b[1;33m[\u001b[0m\u001b[1;36m0\u001b[0m\u001b[1;33m]\u001b[0m\u001b[1;33m[\u001b[0m\u001b[1;34m'edgeSet'\u001b[0m\u001b[1;33m]\u001b[0m\u001b[1;33m[\u001b[0m\u001b[1;36m0\u001b[0m\u001b[1;33m]\u001b[0m\u001b[1;33m[\u001b[0m\u001b[1;36m1\u001b[0m\u001b[1;33m]\u001b[0m\u001b[1;33m\u001b[0m\u001b[0m\n\u001b[0m",
      "\u001b[1;31mKeyError\u001b[0m: 1"
     ]
    }
   ],
   "source": [
    "risk_list[0]['edgeSet'][0][1]                   "
   ]
  },
  {
   "cell_type": "code",
   "execution_count": 38,
   "metadata": {},
   "outputs": [],
   "source": [
    "json_list=[]\n",
    "x=['1','2','3']"
   ]
  },
  {
   "cell_type": "code",
   "execution_count": 39,
   "metadata": {},
   "outputs": [],
   "source": [
    "risk_list[0]['vertexSet']    =x"
   ]
  },
  {
   "cell_type": "code",
   "execution_count": 40,
   "metadata": {},
   "outputs": [
    {
     "data": {
      "text/plain": [
       "['1', '2', '3']"
      ]
     },
     "execution_count": 40,
     "metadata": {},
     "output_type": "execute_result"
    }
   ],
   "source": [
    "risk_list[0]['vertexSet']"
   ]
  },
  {
   "cell_type": "code",
   "execution_count": 57,
   "metadata": {},
   "outputs": [],
   "source": [
    "jsonlist = [{\"vertexSet\": [], \n",
    "    \"edgeSet\": [], \n",
    "    \"tokens\": []}]"
   ]
  },
  {
   "cell_type": "code",
   "execution_count": null,
   "metadata": {},
   "outputs": [],
   "source": [
    "jsonlist"
   ]
  }
 ],
 "metadata": {
  "kernelspec": {
   "display_name": "Python 3",
   "language": "python",
   "name": "python3"
  },
  "language_info": {
   "codemirror_mode": {
    "name": "ipython",
    "version": 3
   },
   "file_extension": ".py",
   "mimetype": "text/x-python",
   "name": "python",
   "nbconvert_exporter": "python",
   "pygments_lexer": "ipython3",
   "version": "3.6.5"
  }
 },
 "nbformat": 4,
 "nbformat_minor": 2
}
