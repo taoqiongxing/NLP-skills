{
 "cells": [
  {
   "cell_type": "markdown",
   "metadata": {},
   "source": [
    "# 2. langid：97种语言检测 https://github.com/saffsd/langid.py"
   ]
  },
  {
   "cell_type": "code",
   "execution_count": 1,
   "metadata": {},
   "outputs": [
    {
     "data": {
      "text/plain": [
       "('en', -54.41310358047485)"
      ]
     },
     "execution_count": 1,
     "metadata": {},
     "output_type": "execute_result"
    }
   ],
   "source": [
    "import langid\n",
    "langid.classify(\"This is a test\")"
   ]
  },
  {
   "cell_type": "code",
   "execution_count": 2,
   "metadata": {},
   "outputs": [
    {
     "data": {
      "text/plain": [
       "'本台刊播《国际锐评：中国已做好全面应对的准备》。锐评指出，对于美方发起的贸易战，中国早就表明态度：不愿打，但也不怕打，必要时不得不打。面对美国的软硬两手，中国也早已给出答案：谈，大门敞开；打，奉陪到底。经历了5000多年风风雨雨的中华民族，什么样的阵势没见过？！在实现民族复兴的伟大进程中，必然会有艰难险阻甚至惊涛骇浪。美国发起的对华贸易战，不过是中国发展进程中的一道坎儿，没什么大不了，中国必将坚定信心、迎难而上，化危为机，斗出一片新天地。无论外部风云如何变幻，对中国来说，最重要的就是做好自己的事情，不断深化改革，扩大开放，实现经济高质量发展。美国下一步是要谈，还是要打，抑或是采取别的动作，中国都已备足了政策工具箱，做好了全面应对的准备。这正如习近平主席所指出，中国经济是一片大海，而不是一个小池塘；狂风骤雨可以掀翻小池塘，但不能掀翻大海；经历了无数次狂风骤雨，大海依旧在那儿！'"
      ]
     },
     "execution_count": 2,
     "metadata": {},
     "output_type": "execute_result"
    }
   ],
   "source": [
    "text='本台刊播《国际锐评：中国已做好全面应对的准备》。锐评指出，对于美方发起的贸易战，中国早就表明态度：不愿打，但也不怕打，必要时不得不打。面对美国的软硬两手，中国也早已给出答案：谈，大门敞开；打，奉陪到底。经历了5000多年风风雨雨的中华民族，什么样的阵势没见过？！在实现民族复兴的伟大进程中，必然会有艰难险阻甚至惊涛骇浪。美国发起的对华贸易战，不过是中国发展进程中的一道坎儿，没什么大不了，中国必将坚定信心、迎难而上，化危为机，斗出一片新天地。无论外部风云如何变幻，对中国来说，最重要的就是做好自己的事情，不断深化改革，扩大开放，实现经济高质量发展。美国下一步是要谈，还是要打，抑或是采取别的动作，中国都已备足了政策工具箱，做好了全面应对的准备。这正如习近平主席所指出，中国经济是一片大海，而不是一个小池塘；狂风骤雨可以掀翻小池塘，但不能掀翻大海；经历了无数次狂风骤雨，大海依旧在那儿！'\n",
    "text"
   ]
  },
  {
   "cell_type": "code",
   "execution_count": 3,
   "metadata": {},
   "outputs": [
    {
     "data": {
      "text/plain": [
       "('zh', -5445.993853330612)"
      ]
     },
     "execution_count": 3,
     "metadata": {},
     "output_type": "execute_result"
    }
   ],
   "source": [
    "langid.classify(text)"
   ]
  },
  {
   "cell_type": "code",
   "execution_count": 7,
   "metadata": {},
   "outputs": [
    {
     "data": {
      "text/plain": [
       "('la', -90.22007036209106)"
      ]
     },
     "execution_count": 7,
     "metadata": {},
     "output_type": "execute_result"
    }
   ],
   "source": [
    "langid.classify(\"what is '乌龙'\")"
   ]
  },
  {
   "cell_type": "code",
   "execution_count": null,
   "metadata": {
    "collapsed": true
   },
   "outputs": [],
   "source": []
  }
 ],
 "metadata": {
  "kernelspec": {
   "display_name": "Python 3",
   "language": "python",
   "name": "python3"
  },
  "language_info": {
   "codemirror_mode": {
    "name": "ipython",
    "version": 3
   },
   "file_extension": ".py",
   "mimetype": "text/x-python",
   "name": "python",
   "nbconvert_exporter": "python",
   "pygments_lexer": "ipython3",
   "version": "3.6.8"
  }
 },
 "nbformat": 4,
 "nbformat_minor": 2
}
