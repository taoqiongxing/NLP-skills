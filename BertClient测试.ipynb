{
 "cells": [
  {
   "cell_type": "code",
   "execution_count": 5,
   "metadata": {},
   "outputs": [
    {
     "name": "stdout",
     "output_type": "stream",
     "text": [
      "[[ 0.07619411 -0.3697744  -0.10606305 ...  0.11700284 -0.12530024\n",
      "  -0.24752781]\n",
      " [-0.19025311 -0.01106383 -0.04895421 ...  0.10970612 -0.12856257\n",
      "  -0.1110041 ]]\n"
     ]
    }
   ],
   "source": [
    "from bert_serving.client import BertClient\n",
    "\n",
    "bc = BertClient()\n",
    "\n",
    "print(bc.encode(['苹果', '手机']))"
   ]
  },
  {
   "cell_type": "code",
   "execution_count": 6,
   "metadata": {},
   "outputs": [
    {
     "name": "stdout",
     "output_type": "stream",
     "text": [
      "[[ 0.07619411 -0.3697744  -0.10606305 ...  0.11700284 -0.12530024\n",
      "  -0.24752781]\n",
      " [ 0.24129207  0.22374326 -0.51198435 ... -0.19281869  0.10768947\n",
      "  -0.36791724]]\n"
     ]
    }
   ],
   "source": [
    "from bert_serving.client import BertClient\n",
    "\n",
    "bc = BertClient()\n",
    "\n",
    "print(bc.encode(['苹果', '香蕉']))"
   ]
  },
  {
   "cell_type": "code",
   "execution_count": null,
   "metadata": {
    "collapsed": true
   },
   "outputs": [],
   "source": []
  },
  {
   "cell_type": "code",
   "execution_count": 7,
   "metadata": {},
   "outputs": [
    {
     "name": "stdout",
     "output_type": "stream",
     "text": [
      "[[-0.278604   -0.4265608  -0.2046767  ... -0.38906327 -0.16018458\n",
      "  -0.14915815]\n",
      " [-0.3507416  -0.2914121   0.07772793 ... -0.49359584 -0.12170722\n",
      "   0.09778035]]\n"
     ]
    }
   ],
   "source": [
    "from bert_serving.client import BertClient\n",
    "\n",
    "bc = BertClient()\n",
    "\n",
    "print(bc.encode(['苹果', '手机']))"
   ]
  },
  {
   "cell_type": "code",
   "execution_count": 8,
   "metadata": {},
   "outputs": [
    {
     "name": "stdout",
     "output_type": "stream",
     "text": [
      "[[-0.278604   -0.4265608  -0.2046767  ... -0.38906327 -0.16018458\n",
      "  -0.14915815]\n",
      " [ 0.11680362 -0.32192534 -0.1035811  ... -0.6712073  -0.3005987\n",
      "   0.14267677]]\n"
     ]
    }
   ],
   "source": [
    "from bert_serving.client import BertClient\n",
    "\n",
    "bc = BertClient()\n",
    "\n",
    "print(bc.encode(['苹果', '香蕉']))"
   ]
  },
  {
   "cell_type": "code",
   "execution_count": 9,
   "metadata": {},
   "outputs": [
    {
     "name": "stdout",
     "output_type": "stream",
     "text": [
      "[[-0.278604   -0.4265608  -0.2046767  ... -0.38906327 -0.16018458\n",
      "  -0.14915815]\n",
      " [ 0.11680362 -0.32192534 -0.1035811  ... -0.6712073  -0.3005987\n",
      "   0.14267677]]\n"
     ]
    }
   ],
   "source": [
    "from bert_serving.client import BertClient\n",
    "\n",
    "bc = BertClient()\n",
    "\n",
    "print(bc.encode(['苹果', '香蕉']))"
   ]
  },
  {
   "cell_type": "code",
   "execution_count": null,
   "metadata": {
    "collapsed": true
   },
   "outputs": [],
   "source": []
  }
 ],
 "metadata": {
  "kernelspec": {
   "display_name": "Python 3",
   "language": "python",
   "name": "python3"
  },
  "language_info": {
   "codemirror_mode": {
    "name": "ipython",
    "version": 3
   },
   "file_extension": ".py",
   "mimetype": "text/x-python",
   "name": "python",
   "nbconvert_exporter": "python",
   "pygments_lexer": "ipython3",
   "version": "3.6.8"
  }
 },
 "nbformat": 4,
 "nbformat_minor": 2
}
