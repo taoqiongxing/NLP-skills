{
 "cells": [
  {
   "cell_type": "markdown",
   "metadata": {},
   "source": [
    "# 4种中文词性标注工具使用及在线测试"
   ]
  },
  {
   "cell_type": "markdown",
   "metadata": {},
   "source": [
    "## 1） Jieba: https://github.com/fxsjy/jieba"
   ]
  },
  {
   "cell_type": "markdown",
   "metadata": {},
   "source": [
    "pip install jieba"
   ]
  },
  {
   "cell_type": "code",
   "execution_count": 1,
   "metadata": {
    "scrolled": true
   },
   "outputs": [
    {
     "data": {
      "text/plain": [
       "'本台刊播《国际锐评：中国已做好全面应对的准备》。锐评指出，对于美方发起的贸易战，中国早就表明态度：不愿打，但也不怕打，必要时不得不打。面对美国的软硬两手，中国也早已给出答案：谈，大门敞开；打，奉陪到底。经历了5000多年风风雨雨的中华民族，什么样的阵势没见过？！在实现民族复兴的伟大进程中，必然会有艰难险阻甚至惊涛骇浪。美国发起的对华贸易战，不过是中国发展进程中的一道坎儿，没什么大不了，中国必将坚定信心、迎难而上，化危为机，斗出一片新天地。无论外部风云如何变幻，对中国来说，最重要的就是做好自己的事情，不断深化改革，扩大开放，实现经济高质量发展。美国下一步是要谈，还是要打，抑或是采取别的动作，中国都已备足了政策工具箱，做好了全面应对的准备。这正如习近平主席所指出，中国经济是一片大海，而不是一个小池塘；狂风骤雨可以掀翻小池塘，但不能掀翻大海；经历了无数次狂风骤雨，大海依旧在那儿！'"
      ]
     },
     "execution_count": 1,
     "metadata": {},
     "output_type": "execute_result"
    }
   ],
   "source": [
    "text='本台刊播《国际锐评：中国已做好全面应对的准备》。锐评指出，对于美方发起的贸易战，中国早就表明态度：不愿打，但也不怕打，必要时不得不打。面对美国的软硬两手，中国也早已给出答案：谈，大门敞开；打，奉陪到底。经历了5000多年风风雨雨的中华民族，什么样的阵势没见过？！在实现民族复兴的伟大进程中，必然会有艰难险阻甚至惊涛骇浪。美国发起的对华贸易战，不过是中国发展进程中的一道坎儿，没什么大不了，中国必将坚定信心、迎难而上，化危为机，斗出一片新天地。无论外部风云如何变幻，对中国来说，最重要的就是做好自己的事情，不断深化改革，扩大开放，实现经济高质量发展。美国下一步是要谈，还是要打，抑或是采取别的动作，中国都已备足了政策工具箱，做好了全面应对的准备。这正如习近平主席所指出，中国经济是一片大海，而不是一个小池塘；狂风骤雨可以掀翻小池塘，但不能掀翻大海；经历了无数次狂风骤雨，大海依旧在那儿！'\n",
    "text"
   ]
  },
  {
   "cell_type": "code",
   "execution_count": 2,
   "metadata": {},
   "outputs": [
    {
     "name": "stderr",
     "output_type": "stream",
     "text": [
      "Building prefix dict from the default dictionary ...\n",
      "Loading model from cache C:\\Users\\Ax\\AppData\\Local\\Temp\\jieba.cache\n",
      "Loading model cost 0.580 seconds.\n",
      "Prefix dict has been built succesfully.\n"
     ]
    },
    {
     "name": "stdout",
     "output_type": "stream",
     "text": [
      "本/r\t台/q\t刊播/v\t《/x\t国际/n\t锐评/v\t：/x\t中国/ns\t已/d\t做好/v\t全面/n\t应对/v\t的/uj\t准备/v\t》/x\t。/x\t锐评/v\t指出/v\t，/x\t对于/p\t美方/q\t发起/v\t的/uj\t贸易战/nz\t，/x\t中国/ns\t早就/d\t表明态度/n\t：/x\t不/d\t愿/v\t打/v\t，/x\t但/c\t也/d\t不怕/c\t打/v\t，/x\t必要/d\t时/n\t不得不/d\t打/v\t。/x\t面对/v\t美国/ns\t的/uj\t软硬/a\t两手/m\t，/x\t中国/ns\t也/d\t早已/d\t给出/v\t答案/n\t：/x\t谈/v\t，/x\t大门/n\t敞开/v\t；/x\t打/v\t，/x\t奉陪到底/n\t。/x\t经历/n\t了/ul\t5000/m\t多年/m\t风风雨雨/i\t的/uj\t中华民族/nz\t，/x\t什么样/r\t的/uj\t阵势/n\t没见/v\t过/ug\t？/x\t！/x\t在/p\t实现/v\t民族/n\t复兴/a\t的/uj\t伟大/a\t进程/n\t中/f\t，/x\t必然/d\t会/v\t有/v\t艰难险阻/i\t甚至/d\t惊涛骇浪/i\t。/x\t美国/ns\t发起/v\t的/uj\t对华贸易/n\t战/n\t，/x\t不过/c\t是/v\t中国/ns\t发展/vn\t进程/n\t中/f\t的/uj\t一道/m\t坎儿/n\t，/x\t没什么/l\t大不了/l\t，/x\t中国/ns\t必将/d\t坚定信心/i\t、/x\t迎难而上/l\t，/x\t化危为机/l\t，/x\t斗出/vn\t一片/m\t新天地/nz\t。/x\t无论/c\t外部/f\t风云/n\t如何/r\t变幻/v\t，/x\t对/p\t中国/ns\t来说/u\t，/x\t最/d\t重要/a\t的/uj\t就是/d\t做好/v\t自己/r\t的/uj\t事情/n\t，/x\t不断/d\t深化改革/j\t，/x\t扩大开放/l\t，/x\t实现/v\t经济/n\t高质量/n\t发展/vn\t。/x\t美国/ns\t下/f\t一步/m\t是/v\t要/v\t谈/v\t，/x\t还是/c\t要/v\t打/v\t，/x\t抑或/c\t是/v\t采取/v\t别的/r\t动作/n\t，/x\t中国/ns\t都/d\t已/d\t备足/v\t了/ul\t政策/n\t工具箱/n\t，/x\t做好/v\t了/ul\t全面/n\t应对/v\t的/uj\t准备/v\t。/x\t这/r\t正如/v\t习近平/nrfg\t主席/n\t所/c\t指出/v\t，/x\t中国/ns\t经济/n\t是/v\t一片/m\t大海/ns\t，/x\t而/c\t不是/c\t一个/m\t小/a\t池塘/ns\t；/x\t狂风骤雨/i\t可以/c\t掀翻/v\t小/a\t池塘/ns\t，/x\t但/c\t不能/v\t掀翻/v\t大海/ns\t；/x\t经历/n\t了/ul\t无数次/m\t狂风骤雨/i\t，/x\t大海/ns\t依旧/z\t在/p\t那儿/r\t！/x\n"
     ]
    }
   ],
   "source": [
    "import jieba.posseg\n",
    "\n",
    "posseg_list=jieba.posseg.cut(text)\n",
    "print('\\t'.join('%s/%s' % (word,tag) for (word, tag) in posseg_list))"
   ]
  },
  {
   "cell_type": "markdown",
   "metadata": {},
   "source": [
    "## 2) SnowNLP: https://github.com/isnowfy/snownlp"
   ]
  },
  {
   "cell_type": "markdown",
   "metadata": {},
   "source": [
    "pip install snownlp"
   ]
  },
  {
   "cell_type": "raw",
   "metadata": {},
   "source": [
    "特点：\n",
    "中文分词（Character-Based Generative Model）\n",
    "词性标注（TnT 3-gram 隐马）\n",
    "情感分析（现在训练数据主要是买卖东西时的评价，所以对其他的一些可能效果不是很好，待解决）\n",
    "文本分类（Naive Bayes）\n",
    "转换成拼音（Trie树实现的最大匹配）\n",
    "繁体转简体（Trie树实现的最大匹配）\n",
    "提取文本关键词（TextRank算法）\n",
    "提取文本摘要（TextRank算法）\n",
    "tf，idf\n",
    "Tokenization（分割成句子）\n",
    "文本相似（BM25）\n",
    "支持python3（感谢erning）"
   ]
  },
  {
   "cell_type": "code",
   "execution_count": 3,
   "metadata": {},
   "outputs": [
    {
     "name": "stdout",
     "output_type": "stream",
     "text": [
      "本台/e\t刊播/e\t《/w\t国际/n\t锐/Ag\t评/v\t：/w\t中国/ns\t已/d\t做好/v\t全面/ad\t应对/v\t的/u\t准备/vn\t》。/nr\t锐/nr\t评/v\t指出/v\t，/w\t对于/p\t美方/n\t发起/v\t的/u\t贸易战/n\t，/w\t中国/ns\t早就/d\t表明/v\t态度/n\t：/w\t不/d\t愿/v\t打/v\t，/w\t但/c\t也/d\t不怕/v\t打/v\t，/w\t必要/a\t时/Ng\t不得不/d\t打/v\t。/w\t面对/v\t美国/ns\t的/u\t软硬/m\t两手/m\t，/w\t中国/ns\t也/d\t早已/d\t给出/v\t答案/n\t：/w\t谈/v\t，/w\t大门/n\t敞开/v\t；/w\t打/v\t，/w\t奉/v\t陪/v\t到底/v\t。/w\t经历/v\t了/u\t5000/s\t多年/m\t风风雨雨/i\t的/u\t中华民族/n\t，/w\t什么样/r\t的/u\t阵势/n\t没/d\t见/v\t过/u\t？！/Yg\t在/p\t实现/v\t民族/n\t复兴/vn\t的/u\t伟大/a\t进程/n\t中/f\t，/w\t必然/d\t会/v\t有/v\t艰难险阻/i\t甚至/c\t惊涛骇浪/i\t。/w\t美国/ns\t发起/v\t的/u\t对/p\t华/j\t贸易战/n\t，/w\t不过/c\t是/v\t中国/ns\t发展/vn\t进程/n\t中/f\t的/u\t一/m\t道/q\t坎儿/n\t，/w\t没什么/l\t大/a\t不/d\t了/u\t，/w\t中国/ns\t必将/d\t坚定/a\t信心/n\t、/w\t迎难而上/l\t，/w\t化/v\t危为/Rg\t机/Ng\t，/w\t斗/v\t出/v\t一/m\t片/q\t新/a\t天地/n\t。/w\t无论/c\t外部/f\t风云/n\t如何/r\t变幻/v\t，/w\t对/p\t中国/ns\t来说/u\t，/w\t最/d\t重要/a\t的/u\t就/d\t是/v\t做/v\t好/a\t自己/r\t的/u\t事情/n\t，/w\t不断/d\t深化/v\t改革/vn\t，/w\t扩大/v\t开放/v\t，/w\t实现/v\t经济/n\t高/a\t质量/n\t发展/vn\t。/w\t美国/ns\t下/f\t一/m\t步/q\t是/v\t要/v\t谈/v\t，/w\t还是/c\t要/v\t打/v\t，/w\t抑或/c\t是/v\t采取/v\t别/v\t的/u\t动作/n\t，/w\t中国/ns\t都/d\t已/d\t备足/v\t了/u\t政策/n\t工具/n\t箱/Ng\t，/w\t做好/v\t了/u\t全面/ad\t应对/v\t的/u\t准备/vn\t。/w\t这/r\t正/d\t如/v\t习/nr\t近平/nr\t主席/n\t所/u\t指出/v\t，/w\t中国/ns\t经济/n\t是/v\t一/m\t片/q\t大海/n\t，/w\t而/c\t不/d\t是/v\t一个/m\t小/a\t池塘/n\t；/w\t狂风/n\t骤雨/k\t可以/v\t掀翻/v\t小/a\t池塘/n\t，/w\t但/c\t不能/ad\t掀翻/v\t大海/n\t；/w\t经历/v\t了/u\t无数/m\t次/q\t狂风/n\t骤雨/y\t，/w\t大海/n\t依旧/z\t在/p\t那儿/r\t！/w\n"
     ]
    }
   ],
   "source": [
    "from snownlp import SnowNLP\n",
    "snow_result = SnowNLP(text)\n",
    "print('\\t'.join('%s/%s' % (word,tag) for (word, tag) in snow_result.tags))"
   ]
  },
  {
   "cell_type": "markdown",
   "metadata": {},
   "source": [
    "## 3) PkuSeg: https://github.com/lancopku/pkuseg-python"
   ]
  },
  {
   "cell_type": "markdown",
   "metadata": {},
   "source": [
    "pip install pkuseg,仅支持Python3,支持numpy版本1.16.3"
   ]
  },
  {
   "cell_type": "raw",
   "metadata": {},
   "source": [
    "pkuseg具有如下几个特点：\n",
    "\n",
    "多领域分词。不同于以往的通用中文分词工具，此工具包同时致力于为不同领域的数据提供个性化的预训练模型。根据待分词文本的领域特点，用户可以自由地选择不同的模型。我们目前支持了新闻领域，网络领域，医药领域，旅游领域，以及混合领域的分词预训练模型。在使用中，如果用户明确待分词的领域，可加载对应的模型进行分词。如果用户无法确定具体领域，推荐使用在混合领域上训练的通用模型。各领域分词样例可参考 example.txt。\n",
    "更高的分词准确率。相比于其他的分词工具包，当使用相同的训练数据和测试数据，pkuseg可以取得更高的分词准确率。\n",
    "支持用户自训练模型。支持用户使用全新的标注数据进行训练。\n",
    "支持词性标注。"
   ]
  },
  {
   "cell_type": "code",
   "execution_count": 4,
   "metadata": {},
   "outputs": [
    {
     "name": "stdout",
     "output_type": "stream",
     "text": [
      "本/r\t台/n\t刊播/v\t《/w\t国际/n\t锐评/vn\t：/w\t中国/ns\t已/d\t做好/v\t全面/ad\t应对/v\t的/u\t准备/vn\t》/w\t。/w\t锐评/v\t指出/v\t，/w\t对于/p\t美方/n\t发起/v\t的/u\t贸易战/n\t，/w\t中国/ns\t早就/d\t表明/v\t态度/n\t：/w\t不/d\t愿/v\t打/v\t，/w\t但/c\t也/d\t不怕/v\t打/v\t，/w\t必要/a\t时/n\t不得不/d\t打/v\t。/w\t面对/v\t美国/ns\t的/u\t软硬两手/n\t，/w\t中国/ns\t也/d\t早已/d\t给出/v\t答案/n\t：/w\t谈/v\t，/w\t大门/n\t敞开/v\t；/w\t打/v\t，/w\t奉陪到底/l\t。/w\t经历/v\t了/u\t5000多/m\t年/q\t风风雨雨/i\t的/u\t中华民族/n\t，/w\t什么样/r\t的/u\t阵势/n\t没/d\t见/v\t过/u\t？/w\t！/w\t在/p\t实现/v\t民族/n\t复兴/v\t的/u\t伟大/a\t进程/n\t中/f\t，/w\t必然/d\t会/v\t有/v\t艰难/a\t险阻/n\t甚至/d\t惊涛骇浪/i\t。/w\t美国/ns\t发起/v\t的/u\t对/p\t华/j\t贸易战/n\t，/w\t不过/d\t是/v\t中国/ns\t发展/vn\t进程/n\t中/f\t的/u\t一道/d\t坎儿/l\t，/w\t没/d\t什么/r\t大不了/v\t，/w\t中国/ns\t必将/d\t坚定/v\t信心/n\t、/w\t迎难而上/l\t，/w\t化危为机/i\t，/w\t斗/v\t出/v\t一/m\t片/q\t新天地/n\t。/w\t无论/c\t外部/f\t风云/n\t如何/r\t变幻/v\t，/w\t对/p\t中国/ns\t来说/u\t，/w\t最/d\t重要/a\t的/u\t就是/d\t做好/v\t自己/r\t的/u\t事情/n\t，/w\t不断/d\t深化/v\t改革/vn\t，/w\t扩大/v\t开放/v\t，/w\t实现/v\t经济/n\t高/a\t质量/n\t发展/vn\t。/w\t美国/ns\t下/f\t一/m\t步/q\t是/v\t要/v\t谈/v\t，/w\t还是/d\t要/v\t打/v\t，/w\t抑或是/c\t采取/v\t别的/r\t动作/n\t，/w\t中国/ns\t都/d\t已/d\t备足/v\t了/u\t政策/n\t工具箱/n\t，/w\t做好/v\t了/u\t全面/ad\t应对/v\t的/u\t准备/vn\t。/w\t这/r\t正如/p\t习近平/nr\t主席/n\t所/u\t指出/v\t，/w\t中国/ns\t经济/n\t是/v\t一/m\t片/q\t大海/n\t，/w\t而/c\t不是/c\t一个/m\t小/a\t池塘/n\t；/w\t狂风/n\t骤雨/n\t可以/v\t掀翻/v\t小/a\t池塘/n\t，/w\t但/c\t不/d\t能/v\t掀翻/v\t大海/n\t；/w\t经历/v\t了/u\t无数/m\t次/q\t狂风/n\t骤雨/n\t，/w\t大海/n\t依旧/z\t在/p\t那儿/r\t！/w\n"
     ]
    }
   ],
   "source": [
    "import pkuseg\n",
    "pku_seg = pkuseg.pkuseg(postag=True)\n",
    "pku_results = pku_seg.cut(text)\n",
    "print('\\t'.join('%s/%s' % (word,tag) for (word, tag) in pku_results))"
   ]
  },
  {
   "cell_type": "markdown",
   "metadata": {
    "collapsed": true
   },
   "source": [
    "## 4) THULAC: https://github.com/thunlp/THULAC-Python"
   ]
  },
  {
   "cell_type": "raw",
   "metadata": {},
   "source": [
    "THULAC（THU Lexical Analyzer for Chinese）由清华大学自然语言处理与社会人文计算实验室研制推出的一套中文词法分析工具包，具有中文分词和词性标注功能。THULAC具有如下几个特点：\n",
    "\n",
    "能力强。利用我们集成的目前世界上规模最大的人工分词和词性标注中文语料库（约含5800万字）训练而成，模型标注能力强大。\n",
    "准确率高。该工具包在标准数据集Chinese Treebank（CTB5）上分词的F1值可达97.3％，词性标注的F1值可达到92.9％，与该数据集上最好方法效果相当。\n",
    "速度较快。同时进行分词和词性标注速度为300KB/s，每秒可处理约15万字。只进行分词速度可达到1.3MB/s。"
   ]
  },
  {
   "cell_type": "code",
   "execution_count": 5,
   "metadata": {},
   "outputs": [
    {
     "name": "stdout",
     "output_type": "stream",
     "text": [
      "Model loaded succeed\n",
      "本/r\t台刊/n\t播/v\t《/w\t国际/n\t锐评/v\t：/w\t中国/ns\t已/d\t做好/v\t全面/a\t应对/v\t的/u\t准备/v\t》/w\t。/w\t锐评/j\t指出/v\t，/w\t对于/p\t美方/n\t发起/v\t的/u\t贸易战/n\t，/w\t中国/ns\t早/a\t就/d\t表明/v\t态度/n\t：/w\t不/d\t愿/v\t打/v\t，/w\t但/c\t也/d\t不怕/v\t打/v\t，/w\t必要/a\t时/g\t不/d\t得/v\t不/d\t打/v\t。/w\t面对/v\t美国/ns\t的/u\t软/a\t硬/a\t两/m\t手/n\t，/w\t中国/ns\t也/d\t早已/d\t给/p\t出答案/n\t：/w\t谈/v\t，/w\t大门/n\t敞开/v\t；/w\t打/v\t，/w\t奉/v\t陪/v\t到底/v\t。/w\t经历/v\t了/u\t5000/m\t多/m\t年/q\t风风雨雨/id\t的/u\t中华民族/n\t，/w\t什/v\t么/u\t样/g\t的/u\t阵势/n\t没/d\t见/v\t过/u\t？/w\t！/w\t在/p\t实现/v\t民族/n\t复兴/v\t的/u\t伟大/a\t进程/n\t中/f\t，/w\t必然/d\t会/v\t有/v\t艰难险阻/id\t甚至/d\t惊涛骇浪/id\t。/w\t美国/ns\t发起/v\t的/u\t对/p\t华/j\t贸易战/n\t，/w\t不/d\t过/v\t是/v\t中国/ns\t发展/v\t进程/n\t中/f\t的/u\t一/m\t道/q\t坎儿/n\t，/w\t没/d\t什/g\t么/g\t大/a\t不/d\t了/v\t，/w\t中国/ns\t必将/d\t坚定/v\t信心/n\t、/w\t迎难而上/id\t，/w\t化危为机/id\t，/w\t斗/v\t出/v\t一/m\t片/q\t新/a\t天地/n\t。/w\t无论/c\t外部/f\t风云/n\t如何/r\t变幻/v\t，/w\t对/p\t中国/ns\t来/v\t说/v\t，/w\t最/d\t重要/a\t的/u\t就/d\t是/v\t做/v\t好/a\t自己/r\t的/u\t事情/n\t，/w\t不/d\t断/v\t深化/v\t改革/v\t，/w\t扩大/v\t开放/v\t，/w\t实现/v\t经济/n\t高/a\t质量/n\t发展/v\t。/w\t美国/ns\t下/f\t一/m\t步/q\t是/v\t要/v\t谈/v\t，/w\t还是/c\t要/v\t打/v\t，/w\t抑或/c\t是/v\t采取/v\t别/r\t的/u\t动作/n\t，/w\t中国/ns\t都/d\t已/d\t备足/v\t了/u\t政策/n\t工具箱/n\t，/w\t做好/v\t了/u\t全面/a\t应对/v\t的/u\t准备/v\t。/w\t这/r\t正/d\t如/v\t习近平/np\t主席/n\t所/u\t指出/v\t，/w\t中国/ns\t经济/n\t是/v\t一/m\t片/q\t大海/n\t，/w\t而/c\t不/d\t是/v\t一个/m\t小/a\t池塘/n\t；/w\t狂风骤雨/i\t可以/v\t掀翻/v\t小/a\t池塘/n\t，/w\t但/c\t不/d\t能/v\t掀翻/v\t大海/n\t；/w\t经历/v\t了/u\t无数/m\t次/q\t狂风骤雨/id\t，/w\t大海/n\t依旧/a\t在/p\t那儿/r\t！/w\n"
     ]
    }
   ],
   "source": [
    "import thulac \n",
    "thup = thulac.thulac()\n",
    "thulac_result = thup.cut(text)\n",
    "print('\\t'.join('%s/%s' % (word,tag) for (word, tag) in thulac_result))"
   ]
  }
 ],
 "metadata": {
  "kernelspec": {
   "display_name": "Python 3",
   "language": "python",
   "name": "python3"
  },
  "language_info": {
   "codemirror_mode": {
    "name": "ipython",
    "version": 3
   },
   "file_extension": ".py",
   "mimetype": "text/x-python",
   "name": "python",
   "nbconvert_exporter": "python",
   "pygments_lexer": "ipython3",
   "version": "3.6.8"
  }
 },
 "nbformat": 4,
 "nbformat_minor": 2
}
